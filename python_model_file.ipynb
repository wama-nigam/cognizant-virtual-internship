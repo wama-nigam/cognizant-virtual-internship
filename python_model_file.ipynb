{
  "nbformat": 4,
  "nbformat_minor": 0,
  "metadata": {
    "colab": {
      "provenance": []
    },
    "kernelspec": {
      "name": "python3",
      "display_name": "Python 3"
    },
    "language_info": {
      "name": "python"
    }
  },
  "cells": [
    {
      "cell_type": "markdown",
      "source": [
        "**Importing Modules**"
      ],
      "metadata": {
        "id": "Rt3jqjWvVPt8"
      }
    },
    {
      "cell_type": "code",
      "source": [
        "import pandas as pd\n",
        "import numpy as np\n",
        "import seaborn as sns\n",
        "import matplotlib.pyplot as plt\n",
        "from datetime import datetime\n",
        "from sklearn.preprocessing import LabelEncoder\n",
        "from sklearn.ensemble import RandomForestRegressor\n",
        "from sklearn.model_selection import train_test_split\n",
        "from sklearn.metrics import mean_absolute_error\n",
        "from sklearn.metrics import mean_squared_error\n",
        "from sklearn.metrics import accuracy_score\n",
        "from sklearn.preprocessing import StandardScaler\n",
        "from sklearn.linear_model import LinearRegression"
      ],
      "metadata": {
        "id": "JWXoia9bVUto"
      },
      "execution_count": 1,
      "outputs": []
    },
    {
      "cell_type": "markdown",
      "source": [
        "**Loading Data**"
      ],
      "metadata": {
        "id": "U60mroO6V5ri"
      }
    },
    {
      "cell_type": "code",
      "source": [
        "def load_data(path):\n",
        "  '''\n",
        "  Takes input path : as string of csv file\n",
        "  Gives output as pandas Dataframe\n",
        "  '''\n",
        "  df = pd.read_csv(path)\n",
        "  df.drop(columns=[\"Unnamed: 0\"], inplace=True, errors='ignore')\n",
        "  return df"
      ],
      "metadata": {
        "id": "h3Jejjn7V9pD"
      },
      "execution_count": null,
      "outputs": []
    },
    {
      "cell_type": "markdown",
      "source": [
        "**Creating target and predictor variable**"
      ],
      "metadata": {
        "id": "3-BUq4DDXjlm"
      }
    },
    {
      "cell_type": "code",
      "source": [
        "def target_and_predictor(data , target):\n",
        "  '''\n",
        "  Input data : Dataframe having merged data necessary for model\n",
        "  Target: The value to be predicted\n",
        "  Output : X -> Data containing necessary features for prediction\n",
        "           Y -> Labels to be predicted\n",
        "  '''\n",
        "\n",
        "  #if target not in dataframe raise exception\n",
        "  if target not in data.columns:\n",
        "        raise Exception(f\"Target: {target} is not present in the data\")\n",
        "\n",
        "  X = data.drop(columns=[target])\n",
        "  y = data[target]\n",
        "  return X, y\n"
      ],
      "metadata": {
        "id": "uDYNqhPOXtW3"
      },
      "execution_count": null,
      "outputs": []
    },
    {
      "cell_type": "markdown",
      "source": [
        "**Training models**"
      ],
      "metadata": {
        "id": "QcMeRPWmZ-cN"
      }
    },
    {
      "cell_type": "markdown",
      "source": [
        "Random Forest"
      ],
      "metadata": {
        "id": "mSulo4HpaEQ5"
      }
    },
    {
      "cell_type": "code",
      "source": [
        "def random_forest_model(X,Y):\n",
        "  '''\n",
        "  This function trains the random forest model on predictor: X and target:Y for k folds\n",
        "  The mean absolute error and mean squared error is calculated for each fold\n",
        "  The average mean absolute error is given at the end of k fold cross validation\n",
        "\n",
        "  Input : (X,Y) -> (Predictor, Target)\n",
        "  Output : Trained model\n",
        "\n",
        "  '''\n",
        "  k=10\n",
        "  accuracy = []\n",
        "  for fold in range(0,k):\n",
        "\n",
        "    #loading model\n",
        "    model = RandomForestRegressor()\n",
        "    scaler = StandardScaler()\n",
        "\n",
        "    #splitting data with 20% as test data and rest as training data\n",
        "    X_train, X_test, Y_train, Y_test = train_test_split(X, Y, train_size=0.2, random_state=3)\n",
        "\n",
        "    #Standardizing values using standard scaler\n",
        "    scaler.fit(X_train)\n",
        "    X_train = scaler.transform(X_train)\n",
        "    X_test = scaler.transform(X_test)\n",
        "\n",
        "    #trained model in result\n",
        "    result = model.fit(X_train,Y_train)\n",
        "\n",
        "    #target values predicted by model on test data\n",
        "    y_predicted = result.predict(X_test)\n",
        "\n",
        "    mse = mean_squared_error(Y_test, y_predicted)\n",
        "\n",
        "    mae = mean_absolute_error(y_true = Y_test, y_pred = y_predicted)\n",
        "    accuracy.append(mae)\n",
        "\n",
        "    print('Fold ' , fold, ': ')\n",
        "    print('MSE: ',mse)\n",
        "    print('MAE: ', mae)\n",
        "\n",
        "  print(f\"Average MAE: {(sum(accuracy) / len(accuracy)):.2f}\")\n",
        "  return model"
      ],
      "metadata": {
        "id": "tNoK-OTwaQj4"
      },
      "execution_count": null,
      "outputs": []
    },
    {
      "cell_type": "markdown",
      "source": [
        "Linear Regression"
      ],
      "metadata": {
        "id": "KvUihvOHb9dX"
      }
    },
    {
      "cell_type": "code",
      "source": [
        "def linear_regression_model(X,Y):\n",
        "    '''\n",
        "    This function trains the linear regression on predictor: X and target:Y\n",
        "    The mean absolute error and mean squared error is calculated\n",
        "\n",
        "    Input : (X,Y) -> (Predictor, Target)\n",
        "    Output : Trained model\n",
        "    '''\n",
        "\n",
        "\n",
        "    scaler = StandardScaler()\n",
        "\n",
        "    #splitting data with 20% as test data and rest as training data\n",
        "    X_train, X_test, Y_train, Y_test = train_test_split(X, Y, train_size=0.2, random_state=3)\n",
        "\n",
        "    #Standardizing values using standard scaler\n",
        "    scaler.fit(X_train)\n",
        "    X_train = scaler.transform(X_train)\n",
        "    X_test = scaler.transform(X_test)\n",
        "\n",
        "    #loading model\n",
        "    model = LinearRegression()\n",
        "\n",
        "    #training model\n",
        "    model.fit(X_train,Y_train)\n",
        "\n",
        "    #target values predicted by model on test data\n",
        "    y_pred = model.predict(X_test)\n",
        "\n",
        "    mse = mean_squared_error(Y_test, y_pred)\n",
        "    print(mse)\n",
        "    mae = mean_absolute_error(y_true = Y_test, y_pred = y_pred)\n",
        "    print(mae)\n",
        "    return model"
      ],
      "metadata": {
        "id": "AgWH3VAwcFLa"
      },
      "execution_count": null,
      "outputs": []
    }
  ]
}